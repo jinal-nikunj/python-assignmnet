{
 "cells": [
  {
   "cell_type": "code",
   "execution_count": 4,
   "id": "68136148",
   "metadata": {},
   "outputs": [
    {
     "name": "stdout",
     "output_type": "stream",
     "text": [
      "[3, 0, 90, 45, 'jinal', True, 78, 5, 23, 13, 6, 4, 1]\n",
      "[3, 0, 90, 45, 'jinal', True, 78, 5, 23, 13, 6, 4, 1]\n",
      "[3, 0, 90, 45, 'jinal', True, 78, 5, 23, 13, 6, 4, 1]\n",
      "[3, 0, 90, 45, 'jinal', True, 78, 5, 23, 13, 6, 4, 1]\n",
      "3, 0, 90, 45, jinal, True, 78, 5, 23, 13, 6, 4, 1, [3, 0, 90, 45, 'jinal', True, 78, 5, 23, 13, 6, 4, 1]\n",
      "[3, 0, 90, 45, 'jinal', True, 78, 5, 23, 13, 6, 4, 1]\n"
     ]
    }
   ],
   "source": [
    "\n",
    "#1. What is List? How will you reverse a list? \n",
    "#list is a data structure which is also called collection of limit in which we can store anything like string,float,integer.\n",
    "\n",
    "#syntax:-listname[item1,item2........iteam n]\n",
    "#a=[]\n",
    "#for i in range(6):\n",
    "    #x=int(input(\"enter your number:  \"))\n",
    "    #a.append(x)\n",
    "#print(a)\n",
    "#print(a.reversed[::-1]\n",
    "#reversemethod\n",
    "l=[1,4,6,13,23,5,78,True,\"jinal\",45,90,0,3]\n",
    "l.reverse()#original list ne reverse kari de\n",
    "print(l)\n",
    "\n",
    "#reversed()-----\n",
    "l=[1,4,6,13,23,5,78,True,\"jinal\",45,90,0,3]\n",
    "print(list(reversed(l)))\n",
    "\n",
    "#reverse indexing----\n",
    "l=[1,4,6,13,23,5,78,True,\"jinal\",45,90,0,3]\n",
    "x=l[::-1]\n",
    "print(x)\n",
    "\n",
    "#reverse for loop\n",
    "l=[1,4,6,13,23,5,78,True,\"jinal\",45,90,0,3]\n",
    "a=[]\n",
    "for i in range(len(l)):\n",
    "    a.insert(i,l[-1])\n",
    "    l.pop(-1)\n",
    "print(a)\n",
    "\n",
    "l=[1,4,6,13,23,5,78,True,\"jinal\",45,90,0,3]\n",
    "for i in reversed(l):\n",
    "    print(i,end=\", \")\n",
    "        \n",
    "\n",
    "l=[1,4,6,13,23,5,78,True,\"jinal\",45,90,0,3]\n",
    "a=[]\n",
    "for i in l:\n",
    "    a=[i]+a\n",
    "print(a)\n",
    "\n",
    "\n",
    "def reverse(l1):\n",
    "    l1.reverse()\n",
    "    return(l1)\n",
    "l1=[1,4,6,13,23,5,78,True,\"jinal\",45,90,0,3]\n",
    "print(reverse(l1))"
   ]
  },
  {
   "cell_type": "code",
   "execution_count": 5,
   "id": "2bac8ba7",
   "metadata": {},
   "outputs": [
    {
     "name": "stdout",
     "output_type": "stream",
     "text": [
      "[2, 33, 222, 14]\n",
      "25\n",
      "[2, 33, 222, 14]\n",
      "[2, 33, 222, 14, 25]\n",
      "Remove element: 25\n",
      "After the remove element: [2, 33, 222, 14]\n"
     ]
    },
    {
     "data": {
      "text/plain": [
       "[2, 33, 222, 14]"
      ]
     },
     "execution_count": 5,
     "metadata": {},
     "output_type": "execute_result"
    }
   ],
   "source": [
    "#2. How will you remove last object from a list? Suppose list1 is [2, 33, 222, 14, and 25], what is list1 [-1]? \n",
    "\n",
    "#[-1] means the last element in a sequence, which in this is case is the list of tuples like (element, count) , \n",
    "# order by count descending so the last element is the least common element in the original\n",
    "#use of remove method\n",
    "list1=[2,33,222,14,25]\n",
    "list1.remove(25)\n",
    "print(list1)\n",
    "\n",
    "\n",
    "#use of slicing method\n",
    "list1=[2,33,222,14,25]\n",
    "print(list1[-1])\n",
    "\n",
    "#use of delete method\n",
    "list1=[2,33,222,14,25]\n",
    "del list1[-1]\n",
    "print(list1)\n",
    "\n",
    "#use of pop method\n",
    "list1=[2,33,222,14,25]\n",
    "print(list1)\n",
    "list2=list1.pop(-1)\n",
    "print(\"Remove element:\",list2)\n",
    "print(\"After the remove element:\",list1)\n",
    "\n",
    "def remove():\n",
    "    list1=[2,33,222,14,25]\n",
    "    list1.remove(25)\n",
    "    return(list1)\n",
    "\n",
    "remove()\n",
    "    \n",
    " "
   ]
  },
  {
   "cell_type": "code",
   "execution_count": null,
   "id": "c15c2ef8",
   "metadata": {},
   "outputs": [],
   "source": [
    "#3  Differentiate between append () and extend () methods? \n",
    "******append:\n",
    "#The append() method in the programming language Python adds an item to a list that already exists. \n",
    "#Instead of being returned to a new list, the item will be added toward the end of the existing list. \n",
    "#Because lists can include elements of several data types, programmers can add items of any data type.\n",
    "#The method is responsible for adding its parameters to the end of a list as a single element.\n",
    "#The list's length grows by one. The original list is updated when the append() method is used. \n",
    "#The approach alters the original list in memory rather than creating a copy.\n",
    "<list>.append(<item>)\n",
    "\n",
    "****extend****\n",
    "#The extend method in Python is responsible for appending each iterable (it can be a tuple, any string, or a list)\n",
    "#member to the list's end as well as increasing the length of the original list by the count of iterable elements supplied as an argument.\n",
    "#Strings behave differently when using the .extend() function.\n",
    "#Since each character in any given string is treated as a \"item,\" the characters are inserted one by one in the sequence in which they occur in the string.\n",
    "\n",
    "\n",
    "\n",
    "\n"
   ]
  },
  {
   "cell_type": "code",
   "execution_count": 2,
   "id": "d13579c0",
   "metadata": {},
   "outputs": [
    {
     "name": "stdout",
     "output_type": "stream",
     "text": [
      "enter your number: 3\n",
      "enter your number: 4\n",
      "enter your number: 2\n",
      "enter your number: 1\n",
      "[3, 4, 2, 1]\n",
      "10\n",
      "largest number of list 4\n",
      "smallest number of list 1\n"
     ]
    }
   ],
   "source": [
    "###4  Write a Python function to get the largest number, smallest num and sum of all from a list. \n",
    "\n",
    "a=[]\n",
    "for i in range(4):\n",
    "    list1=int(input(\"enter your number: \"))\n",
    "    a.append(list1)\n",
    "print(a)\n",
    "print(sum(a))\n",
    "print(\"largest number of list\",max(a))\n",
    "print(\"smallest number of list\",min(a))\n",
    " "
   ]
  },
  {
   "cell_type": "code",
   "execution_count": 14,
   "id": "42aada0e",
   "metadata": {
    "scrolled": true
   },
   "outputs": [
    {
     "name": "stdout",
     "output_type": "stream",
     "text": [
      "True\n"
     ]
    }
   ],
   "source": [
    "# 5 How will you compare two lists? \n",
    "list1=[1,2,3,7,4,5,6]\n",
    "list2=[1,2,3,5,4,6,7]\n",
    "list1.sort()\n",
    "list2.sort()\n",
    "print(list1==list2)\n",
    "\n"
   ]
  },
  {
   "cell_type": "code",
   "execution_count": 30,
   "id": "8b9ba1fe",
   "metadata": {},
   "outputs": [
    {
     "ename": "SyntaxError",
     "evalue": "unexpected EOF while parsing (3425717.py, line 12)",
     "output_type": "error",
     "traceback": [
      "\u001b[1;36m  File \u001b[1;32m\"C:\\Users\\DELL\\AppData\\Local\\Temp\\ipykernel_12232\\3425717.py\"\u001b[1;36m, line \u001b[1;32m12\u001b[0m\n\u001b[1;33m    \u001b[0m\n\u001b[1;37m    ^\u001b[0m\n\u001b[1;31mSyntaxError\u001b[0m\u001b[1;31m:\u001b[0m unexpected EOF while parsing\n"
     ]
    }
   ],
   "source": [
    "def compare(list1,list2):\n",
    "    list1,sort()\n",
    "    list2.sort()\n",
    "    if(list1==list2):\n",
    "        return(True)\n",
    "    else:\n",
    "        return(False)\n",
    "list1=[1,2,3,7,4,5,6]\n",
    "list2=[1,2,3,5,4,6,7]\n",
    "print(compare(list1,list2)\n",
    "\n",
    "\n"
   ]
  },
  {
   "cell_type": "code",
   "execution_count": 91,
   "id": "44eca475",
   "metadata": {
    "scrolled": true
   },
   "outputs": [
    {
     "name": "stdout",
     "output_type": "stream",
     "text": [
      "enter your value: jinal\n",
      "enter your value: nikunj\n",
      "enter your value: aba\n",
      "enter your value: xyx\n",
      "original string  ['jinal', 'nikunj', 'aba', 'xyx']\n",
      "2\n"
     ]
    }
   ],
   "source": [
    " #6 Write a Python program to count the number of strings where the string \n",
    "#length is 2 or more and the first and last character are same from a given list of strings. \n",
    "a=[]\n",
    "for i in range(4):\n",
    "    word=input(\"enter your value: \")\n",
    "    a.append(word)\n",
    "b=0\n",
    "print(\"original string \" ,a)\n",
    "for j in a:\n",
    "    if len(j)>1 and j[0]==j[-1]:\n",
    "        b+=1\n",
    "print(b)"
   ]
  },
  {
   "cell_type": "code",
   "execution_count": 33,
   "id": "25bc1213",
   "metadata": {},
   "outputs": [
    {
     "data": {
      "text/plain": [
       "3"
      ]
     },
     "execution_count": 33,
     "metadata": {},
     "output_type": "execute_result"
    }
   ],
   "source": [
    "def character():\n",
    "    l1=[\"jinal\",\"xyx\",\"aba\",\"121\"]\n",
    "    b=0\n",
    "    for i in l1:\n",
    "        if len(i)>1 and i[0]==i[-1]:\n",
    "            b+=1\n",
    "    return(b)\n",
    "character()\n"
   ]
  },
  {
   "cell_type": "code",
   "execution_count": 28,
   "id": "8ad92263",
   "metadata": {},
   "outputs": [
    {
     "name": "stdout",
     "output_type": "stream",
     "text": [
      "enter your number: 4\n",
      "enter your name: jinal\n",
      "enter your name: manali\n",
      "enter your name: jinal\n",
      "enter your name: vekariya\n",
      "original list: ['jinal', 'manali', 'jinal', 'vekariya']\n",
      "remove duplicate list  ['jinal', 'manali', 'vekariya']\n"
     ]
    }
   ],
   "source": [
    "#### 7 Write a Python program to remove duplicates from a list. \n",
    "#fruits = [1,2,3,4,5,6]\n",
    "num=int(input(\"enter your number: \"))\n",
    "a=[]\n",
    "for i in range(num):\n",
    "    list1=input(\"enter your name: \")\n",
    "    a.append(list1)\n",
    "print(\"original list:\",a)\n",
    "result=[]\n",
    "for j in a:\n",
    "    if j not in result:\n",
    "        result.append(j)\n",
    "print(\"remove duplicate list \",result)\n",
    "  \n",
    " \n",
    " \n",
    "#nu\n",
    "#list1=[1,2,3,4,5,3,2,4,5,1,5]\n",
    "#result=[]\n",
    "#for i in list1:\n",
    "    #if i not in result:\n",
    "        #result.append(i)\n",
    "#print(result)"
   ]
  },
  {
   "cell_type": "code",
   "execution_count": 34,
   "id": "104120c9",
   "metadata": {},
   "outputs": [
    {
     "data": {
      "text/plain": [
       "{'jinal', 'manali', 'vekariya'}"
      ]
     },
     "execution_count": 34,
     "metadata": {},
     "output_type": "execute_result"
    }
   ],
   "source": [
    "def remove():\n",
    "    l1= ['jinal', 'manali', 'jinal', 'vekariya']\n",
    "    l2=set(l1)\n",
    "    return(l2)\n",
    "remove()"
   ]
  },
  {
   "cell_type": "code",
   "execution_count": 34,
   "id": "cde64d30",
   "metadata": {},
   "outputs": [
    {
     "name": "stdout",
     "output_type": "stream",
     "text": [
      "enter your value: 4\n",
      "enter your value: 1\n",
      "enter your value: 2\n",
      "enter your value: 3\n",
      "enter your value: 4\n",
      "original string ['1', '2', '3', '4']\n",
      "list is not empty\n"
     ]
    }
   ],
   "source": [
    "#8 Write a Python program to check a list is empty or not. \n",
    "list1=[]\n",
    "num=int(input(\"enter your value: \"))\n",
    "for i in range(num):\n",
    "    list2=input(\"enter your value: \")\n",
    "    list1.append(list2)\n",
    "print(\"original string\",list1)\n",
    "if len(list1)==0:\n",
    "    print(\"list is empty\")\n",
    "else:\n",
    "    print(\"list is not empty\")\n",
    "\n",
    "    \n"
   ]
  },
  {
   "cell_type": "code",
   "execution_count": 36,
   "id": "7af0c6f0",
   "metadata": {},
   "outputs": [
    {
     "data": {
      "text/plain": [
       "'list is not empty'"
      ]
     },
     "execution_count": 36,
     "metadata": {},
     "output_type": "execute_result"
    }
   ],
   "source": [
    "def empty_list():\n",
    "    list1=[1,2]\n",
    "    if len(list1)==0:\n",
    "        return(\"list is empty\")\n",
    "    else:\n",
    "        return(\"list is not empty\")\n",
    "\n",
    "empty_list()\n",
    "        "
   ]
  },
  {
   "cell_type": "code",
   "execution_count": 27,
   "id": "1242ce4b",
   "metadata": {},
   "outputs": [
    {
     "name": "stdout",
     "output_type": "stream",
     "text": [
      "false\n"
     ]
    }
   ],
   "source": [
    "###### 9. Write a Python function that takes two lists and returns true if they have at least one common member. \n",
    "\n",
    "#a=[]\n",
    "#num1=int(input(\"enter your value: \"))\n",
    "#for i in range(num1):\n",
    "        #list1=input(\"enter your list \")\n",
    "        #a.append(list1)\n",
    "#print(\"list1: \",a)\n",
    "#b=[]\n",
    "#num2=int(input(\"enter your value: \"))\n",
    "#for j in range(num2):\n",
    "        #list2=input(\"enter your list \")\n",
    "        #b.append(list2)\n",
    "    #print(\"list2: \",b)\n",
    "     #if i==j:\n",
    "    #print(True)\n",
    "    #else:\n",
    "#print(False)\n",
    "list1=[1,2,3,4,5,6]\n",
    "list2=[23,45,67,5,1]\n",
    "for i in list1:\n",
    "    for j in list2:\n",
    "        if i==j:\n",
    "            print(\"True\")   \n",
    "            break\n",
    "    \n",
    "        else:\n",
    "            print(\"false\")\n",
    "            break\n",
    "    break"
   ]
  },
  {
   "cell_type": "code",
   "execution_count": 36,
   "id": "ef8d2786",
   "metadata": {},
   "outputs": [
    {
     "name": "stdout",
     "output_type": "stream",
     "text": [
      "enter your number: 30\n",
      "[1, 4, 9, 16, 25]\n",
      "[676, 729, 784, 841, 900]\n"
     ]
    }
   ],
   "source": [
    "\n",
    "##### 10. Write a Python program to generate and print a list of first and last 5\n",
    "# elements where the values are square of numbers between 1 and 30. \n",
    "num=int(input(\"enter your number: \"))\n",
    "l = list()\n",
    "for i in range(1,num+1):\n",
    "\tl.append(i**2)\n",
    "print(l[:5])\n",
    "print(l[-5:])\n",
    "\n",
    " "
   ]
  },
  {
   "cell_type": "code",
   "execution_count": 45,
   "id": "e345c667",
   "metadata": {},
   "outputs": [
    {
     "name": "stdout",
     "output_type": "stream",
     "text": [
      "[1, 4, 9, 16, 25]\n",
      "[676, 729, 784, 841, 900]\n"
     ]
    }
   ],
   "source": [
    "def square():\n",
    "    l1=[]\n",
    "    for i in range(1,31):\n",
    "        l1.append(i**2)\n",
    "    print(l1[:5])\n",
    "    print(l1[-5:])\n",
    "    \n",
    "    \n",
    "square()"
   ]
  },
  {
   "cell_type": "code",
   "execution_count": 18,
   "id": "eec1e100",
   "metadata": {},
   "outputs": [
    {
     "name": "stdout",
     "output_type": "stream",
     "text": [
      "enter your number: 5\n",
      "enter your name: 4\n",
      "enter your name: 3\n",
      "enter your name: 2\n",
      "enter your name: 1\n",
      "enter your name: 1\n",
      "original list: ['4', '3', '2', '1', '1']\n",
      "{'2', '4', '3', '1'}\n"
     ]
    }
   ],
   "source": [
    "### ##### 11. Write a Python function that takes a list and returns a new list with unique elements of the first list. \n",
    "\n",
    "num=int(input(\"enter your number: \"))\n",
    "a=[]\n",
    "b=[]\n",
    "for i in range(num):\n",
    "    list1=input(\"enter your name: \")\n",
    "    a.append(list1)\n",
    "\n",
    "print(\"original list:\",a)\n",
    "b=set(a)\n",
    "print(b)\n",
    "#result=[]\n",
    "#for j in a:\n",
    "    #if j not in result:\n",
    "       # result.append(j)\n",
    "#print(\"list with unique elements: \",result)\n",
    "\n",
    "  "
   ]
  },
  {
   "cell_type": "code",
   "execution_count": 49,
   "id": "8259ea87",
   "metadata": {},
   "outputs": [
    {
     "name": "stdout",
     "output_type": "stream",
     "text": [
      "[0, 1, 2, 3, 4, 5, 6, 7, 8, 9]\n"
     ]
    }
   ],
   "source": [
    "def uniue_list():\n",
    "    l1=[5,6,7,8,9,3,4,5,2,3,4,5,6,1,0]\n",
    "    l2=set(l1)\n",
    "    l2=list(l2)\n",
    "    return(l2)\n",
    "print(uniue_list())"
   ]
  },
  {
   "cell_type": "code",
   "execution_count": 16,
   "id": "8cd8e6ca",
   "metadata": {},
   "outputs": [
    {
     "name": "stdout",
     "output_type": "stream",
     "text": [
      "enter your number: 5\n",
      "entre your list:  j\n",
      "entre your list:  i\n",
      "entre your list:  n\n",
      "entre your list:  a\n",
      "entre your list:  l\n",
      "['j', 'i', 'n', 'a', 'l']\n"
     ]
    },
    {
     "data": {
      "text/plain": [
       "'jinal'"
      ]
     },
     "execution_count": 16,
     "metadata": {},
     "output_type": "execute_result"
    }
   ],
   "source": [
    "#12. Write a Python program to convert a list of characters into a string. \n",
    "a=[]\n",
    "num=int(input(\"enter your number: \"))\n",
    "for i in range(num):\n",
    "    list1=input(\"entre your list:  \")\n",
    "    a.append(list1)\n",
    "print(a)\n",
    "''.join(a)\n"
   ]
  },
  {
   "cell_type": "code",
   "execution_count": 51,
   "id": "027eff71",
   "metadata": {},
   "outputs": [
    {
     "data": {
      "text/plain": [
       "'jinal'"
      ]
     },
     "execution_count": 51,
     "metadata": {},
     "output_type": "execute_result"
    }
   ],
   "source": [
    "def convert():\n",
    "    l1=['j', 'i', 'n', 'a', 'l']\n",
    "    return(''.join(l1))\n",
    "\n",
    "convert()   "
   ]
  },
  {
   "cell_type": "code",
   "execution_count": 12,
   "id": "27930f2b",
   "metadata": {},
   "outputs": [
    {
     "name": "stdout",
     "output_type": "stream",
     "text": [
      "enter your value: 5\n",
      "enter your randomaly county name you want to go:- canada\n",
      "enter your randomaly county name you want to go:- usa\n",
      "enter your randomaly county name you want to go:- newzeland\n",
      "enter your randomaly county name you want to go:- london\n",
      "enter your randomaly county name you want to go:- india\n",
      "canada\n"
     ]
    }
   ],
   "source": [
    "#13 Write a Python program to select an item randomly from a list. \n",
    "import random\n",
    "a=[]\n",
    "num=int(input(\"enter your value: \"))\n",
    "for i in range(num):\n",
    "    randomnumber=input('enter your randomaly county name you want to go:- ')\n",
    "    a.append(randomnumber)\n",
    "randomecountry=random.choice(a)\n",
    "print(randomecountry)\n",
    "    "
   ]
  },
  {
   "cell_type": "code",
   "execution_count": 20,
   "id": "22153385",
   "metadata": {
    "scrolled": true
   },
   "outputs": [
    {
     "name": "stdout",
     "output_type": "stream",
     "text": [
      "enter your value:- 5\n",
      "enter your number:= 2\n",
      "enter your number:= 3\n",
      "enter your number:= 7\n",
      "enter your number:= 8\n",
      "enter your number:= 9\n",
      "enter your number:= 10\n",
      "[2, 3, 7, 8, 9, 10]\n",
      "The second smallest value of this list:  3\n"
     ]
    }
   ],
   "source": [
    "### Q.14 Write a Python program to find the second smallest number in a list. \n",
    "num=int(input(\"enter your value:- \"))\n",
    "a=[]\n",
    "for i in range(num+1):\n",
    "    list1=int(input(\"enter your number:= \"))\n",
    "    a.append(list1)\n",
    "    a.sort()\n",
    "print(a)\n",
    "print(\"The second smallest value of this list: \",a[1])\n"
   ]
  },
  {
   "cell_type": "code",
   "execution_count": 62,
   "id": "a35a77e3",
   "metadata": {},
   "outputs": [
    {
     "name": "stdout",
     "output_type": "stream",
     "text": [
      "4\n"
     ]
    }
   ],
   "source": [
    "def smallest_number():\n",
    "    l1=[5,4,3,8,9,10]\n",
    "    l1.sort()\n",
    "    print(l1[1])\n",
    "smallest_number()     \n"
   ]
  },
  {
   "cell_type": "code",
   "execution_count": 26,
   "id": "5bf640f8",
   "metadata": {
    "scrolled": true
   },
   "outputs": [
    {
     "name": "stdout",
     "output_type": "stream",
     "text": [
      "enter your value:- 9\n",
      "enter your number:- 1\n",
      "enter your number:- 2\n",
      "enter your number:- 1\n",
      "enter your number:- 12\n",
      "enter your number:- 3\n",
      "enter your number:- 12\n",
      "enter your number:- 1\n",
      "enter your number:- 3\n",
      "enter your number:- 45\n",
      "[1, 2, 1, 12, 3, 12, 1, 3, 45]\n",
      "{1, 2, 3, 12, 45}\n"
     ]
    }
   ],
   "source": [
    "#15.Write a Python program to get unique values from a list \n",
    "num=int(input(\"enter your value:- \"))\n",
    "a=[]\n",
    "for i in range(num):\n",
    "    list1=int(input(\"enter your number:- \"))\n",
    "    a.append(list1)\n",
    "print(a)\n",
    "b=set(a)   #set is unique don't use duplicate value\n",
    "print(\"unique value from list\",b)\n",
    "    "
   ]
  },
  {
   "cell_type": "code",
   "execution_count": 64,
   "id": "41fefd58",
   "metadata": {},
   "outputs": [
    {
     "data": {
      "text/plain": [
       "[1, 2, 3, 12, 45]"
      ]
     },
     "execution_count": 64,
     "metadata": {},
     "output_type": "execute_result"
    }
   ],
   "source": [
    "def uniue_value(l1):\n",
    "    l2=set(l1)\n",
    "    l2=list(l2)\n",
    "    return(l2)\n",
    "    \n",
    "\n",
    "\n",
    "\n",
    "\n",
    "l1=[1, 2, 1, 12, 3, 12, 1, 3, 45]\n",
    "uniue_value(l1)     \n",
    "\n"
   ]
  },
  {
   "cell_type": "code",
   "execution_count": null,
   "id": "79a70ab2",
   "metadata": {},
   "outputs": [],
   "source": [
    "#16. Write a Python program to check whether a list contains a sub list \n"
   ]
  },
  {
   "cell_type": "code",
   "execution_count": 27,
   "id": "d5971f22",
   "metadata": {},
   "outputs": [
    {
     "name": "stdout",
     "output_type": "stream",
     "text": [
      "('love', 'yes', 'no')\n",
      "('valentine', 'no', 'yes')\n",
      "('day', 'yes', 'yes')\n"
     ]
    }
   ],
   "source": [
    "#17. Write a Python program to split a list into different variables. \n",
    "list1=[('love', 'yes', 'no'), ('valentine', 'no', 'yes'), ('day', 'yes','yes')]\n",
    "x,y,z=list1\n",
    "print(x)\n",
    "print(y)\n",
    "print(z)"
   ]
  },
  {
   "cell_type": "raw",
   "id": "ac0344ca",
   "metadata": {},
   "source": [
    "# 18. What is tuple? Difference between list and tuple. \n",
    "\n",
    "#Tuples are also a sequence data type containing elements of different data types.\n",
    "#It comes in handy when storing a collection of items, especially if you want those items to be unchanging. \n",
    "#Tuples are immutable in nature.\n",
    "#Tuples are ordered\n",
    "\n",
    "#Python Lists\n",
    "#List are mutable\n",
    "#Iterations are time-consuming\n",
    "#Inserting and deleting items is easier with a list.\n",
    "#Lists consume more memory\n",
    "#Lists have several built-in methods.\n",
    "#A unexpected change or error is more likely to occur in a list.\n",
    "\n",
    "#Python Tuples\n",
    "#Tuples are immutable\n",
    "#Iterations are comparatively Faster\n",
    "#Iterations are comparatively Faster\n",
    "#Accessing the elements is best accomplished with a tuple data type.\n",
    "#Tuple consumes less than the list\n",
    "#A tuple does not have many built-in methods because of immutability\n",
    "#In a tuple, changes and errors don't usually occur because of immutability.\n",
    "\n",
    "\n",
    "\n",
    "\n",
    "\n",
    "\n",
    "\n",
    "\n",
    "\n",
    "\n",
    "\n",
    "\n",
    "\n",
    "\n",
    " \n",
    "\n",
    "\n",
    "\n",
    "\n",
    "\n",
    "\n",
    "\n",
    "\n",
    "\n"
   ]
  },
  {
   "cell_type": "code",
   "execution_count": 30,
   "id": "a76128f9",
   "metadata": {},
   "outputs": [
    {
     "name": "stdout",
     "output_type": "stream",
     "text": [
      "('jinal', 1, 3, 4, 2.3, 3.4, True, False, [1, 2, 3])\n"
     ]
    }
   ],
   "source": [
    "#19.Write a Python program to create a tuple with different data types. \n",
    "tup=(\"jinal\",1,3,4,2.3,3.4,True,False,[1,2,3])\n",
    "print(tup)"
   ]
  },
  {
   "cell_type": "code",
   "execution_count": 22,
   "id": "61c5d17a",
   "metadata": {},
   "outputs": [
    {
     "name": "stdout",
     "output_type": "stream",
     "text": [
      "(12, 34, 56, 2, 3, 7, 8, 9, 10)\n"
     ]
    }
   ],
   "source": [
    "#20.Write a Python program to create a tuple with numbers. \n",
    "tup=12,34,56,2,3,7,8,9,10\n",
    "print(tup)"
   ]
  },
  {
   "cell_type": "code",
   "execution_count": 36,
   "id": "2f18c6a8",
   "metadata": {},
   "outputs": [
    {
     "name": "stdout",
     "output_type": "stream",
     "text": [
      "$ello $ $m $inal $ekariya\n"
     ]
    }
   ],
   "source": [
    "str1=\"hello i am jinal vekariya\"\n",
    "l1=str1.split()\n",
    "l3=[]\n",
    "for i in l1:\n",
    "    l2=list(i)\n",
    "    l2[0]='$'\n",
    "    str2=''.join(l2)\n",
    "    l3.append(str2)\n",
    "str2=' '.join(l3)\n",
    "print(str2)    "
   ]
  },
  {
   "cell_type": "code",
   "execution_count": null,
   "id": "5477637b",
   "metadata": {},
   "outputs": [],
   "source": [
    "#21  Write a Python program to convert a tuple to a string.\n",
    "tuple1=(\"j\",\"i\",\"n\",\"a\",\"l\")\n",
    "print(''.join(tuple1))\n",
    "\n",
    "\n",
    "tup=()\n",
    "for i in range(1,6):\n",
    "    value=input(\"please enter %s tuple item:-\" %i)\n",
    "    tup+=(value,)\n",
    "print(tup)\n",
    "''.join(tup)   "
   ]
  },
  {
   "cell_type": "code",
   "execution_count": 22,
   "id": "538a3303",
   "metadata": {},
   "outputs": [
    {
     "name": "stdout",
     "output_type": "stream",
     "text": [
      "no the elemnets is exists in tuple\n"
     ]
    }
   ],
   "source": [
    "#22. Write a Python program to check whether an element exists within a tuple\n",
    "tuple1=(1,4,9,5,4,7)   \n",
    "if 6 in tuple1:\n",
    "    print(\"yes the elemnets is exists in tuple\")\n",
    "else:\n",
    "    print(\"no the elemnets is exists in tuple\")\n"
   ]
  },
  {
   "cell_type": "code",
   "execution_count": 5,
   "id": "e94a69f4",
   "metadata": {},
   "outputs": [
    {
     "name": "stdout",
     "output_type": "stream",
     "text": [
      "('j', 'i', 'n', 'a', 'l', ' ', 'v', 'e', 'k', 'a', 'r', 'i', 'y', 'a')\n",
      "14\n"
     ]
    }
   ],
   "source": [
    "#23. Write a Python program to find the length of a tuple. \n",
    "tuple1=\"jinal vekariya\"\n",
    "tuple2=tuple(tuple1)\n",
    "print(tuple2)\n",
    "print(len(tuple1))"
   ]
  },
  {
   "cell_type": "code",
   "execution_count": 11,
   "id": "572812da",
   "metadata": {},
   "outputs": [
    {
     "name": "stdout",
     "output_type": "stream",
     "text": [
      "enter your number:- jinal\n",
      "enter your number:- nikunj\n",
      "enter your number:- dholakiya\n",
      "enter your number:- vekariya\n",
      "enter your number:- manali\n",
      "enter your number:- tops\n",
      "original list ['jinal', 'nikunj', 'dholakiya', 'vekariya', 'manali', 'tops']\n",
      "list convert to tuple ('jinal', 'nikunj', 'dholakiya', 'vekariya', 'manali', 'tops')\n"
     ]
    }
   ],
   "source": [
    "#24. Write a Python program to convert a list to a tuple. \n",
    "a=[]\n",
    "for i in range(1,7):\n",
    "    list1=input(\"enter your number:- \")\n",
    "    a.append(list1)\n",
    "print(\"original list\",a)\n",
    "t1=tuple(a)\n",
    "print(\"list convert to tuple\",t1)\n",
    "    \n",
    " "
   ]
  },
  {
   "cell_type": "code",
   "execution_count": 9,
   "id": "a7ed4632",
   "metadata": {},
   "outputs": [
    {
     "name": "stdout",
     "output_type": "stream",
     "text": [
      "('cherry', 'banana', 'apple')\n",
      "(4, 2, 3, 6, 5, 4, 3, 1)\n",
      "<class 'reversed'>\n",
      "reverse a tuple= ('l', 'n', 'i', 'j')\n"
     ]
    }
   ],
   "source": [
    "##### #25.Write a Python program to reverse a tuple. \n",
    "x = ('apple', 'banana', 'cherry')\n",
    "result = reversed(x)\n",
    "result = tuple(result)\n",
    "print(result)\n",
    "\n",
    "\n",
    "tup1=(1,3,4,5,6,3,2,4)\n",
    "tup2=reversed(tup1)\n",
    "#tup2=tuple(tup2)\n",
    "print(tuple(tup2))\n",
    "print(type(tup2))\n",
    "\n",
    "tup1=(\"j\",\"i\",\"n\",\"l\")\n",
    "print(\"reverse a tuple=\",tup1[::-1])"
   ]
  },
  {
   "cell_type": "code",
   "execution_count": 16,
   "id": "03d7a8bf",
   "metadata": {},
   "outputs": [
    {
     "name": "stdout",
     "output_type": "stream",
     "text": [
      "[(1, 3, 4, 'hello'), (2, 4, 5, 'hello'), (1, 3, 4, 'hello')]\n"
     ]
    }
   ],
   "source": [
    "#26. Write a Python program to replace last value of tuples in a list. \n",
    "list1=[(1,3,4,25),(2,4,5,25),(1,3,4,25)]\n",
    "list2=[]\n",
    "for i in list1:\n",
    "    if type(i)==tuple:\n",
    "        t1=list(i)\n",
    "        t1[-1]=\"hello\"\n",
    "        t1=tuple(t1)\n",
    "        list2.append(t1)\n",
    "    else:\n",
    "        list2.append(i)\n",
    "print(list2)\n",
    " "
   ]
  },
  {
   "cell_type": "code",
   "execution_count": 16,
   "id": "48beca7c",
   "metadata": {},
   "outputs": [
    {
     "name": "stdout",
     "output_type": "stream",
     "text": [
      "(1, 2)\n",
      "[1, 'hello']\n",
      "(5, 3, 4)\n",
      "[5, 3, 'hello']\n",
      "[[1, 'hello'], 'jinal', [5, 3, 'hello']]\n"
     ]
    }
   ],
   "source": [
    "list1=[(1,2),\"jinal\",(5,3,4)]\n",
    "list2=[]\n",
    "for i in list1:\n",
    "    if type(i)==tuple:\n",
    "        t1=list(i)\n",
    "        print(i)\n",
    "        t1[-1]=\"hello\"\n",
    "        print(t1)\n",
    "        tuple(t1)\n",
    "        list2.append(t1)\n",
    "    else:\n",
    "        list2.append(i)\n",
    "print(list2)\n"
   ]
  },
  {
   "cell_type": "code",
   "execution_count": 28,
   "id": "ef9351a1",
   "metadata": {},
   "outputs": [
    {
     "name": "stdout",
     "output_type": "stream",
     "text": [
      "enter count number 3\n",
      "enter your number:-1\n",
      "enter your number:-2\n",
      "enter your number:-3\n",
      "enter your number:-3\n",
      "enter your number:-3\n",
      "enter your number:-3\n",
      "[1, 2, 3, 3, 3, 3]\n",
      "(1, 2, 3, 3, 3, 3)\n",
      "count repeted 4\n",
      "count repeted item 2\n"
     ]
    }
   ],
   "source": [
    "## 27.. Write a Python program to find the repeated items of a tuple. \n",
    "list1=[]\n",
    "search=int(input(\"enter count number \"))\n",
    "\n",
    "for i in range(0,6):\n",
    "    value=int(input(\"enter your number:-\"))\n",
    "    list1.append(value)\n",
    "print(list1)\n",
    "tup2=tuple(list1)\n",
    "print(tup2)\n",
    "tup3=tup2.count(search)             \n",
    "print(\"count repeted\",tup3)\n",
    "\n",
    "tup2=(1,3,4,5,6,3,2,4)\n",
    "count=tup2.count(3)\n",
    "print(\"count repeted item\",count)\n",
    "    "
   ]
  },
  {
   "cell_type": "code",
   "execution_count": 35,
   "id": "08aacb33",
   "metadata": {},
   "outputs": [
    {
     "name": "stdout",
     "output_type": "stream",
     "text": [
      "[('inal', 'nikunj', 'vekariya'), (1, 2, 3)]\n",
      "[('inal', 'nikunj', 'vekariya'), (1, 2, 3)]\n"
     ]
    }
   ],
   "source": [
    "#28  Write a Python program to remove an empty tuple(s) from a list of tuples. \n",
    "list1=[('inal','nikunj','vekariya'),(),(),(1,2,3),()]\n",
    "list2=list1.copy()\n",
    "for tuple1 in list1:\n",
    "    if (len(tuple1)==0):\n",
    "        list2.remove(tuple1)\n",
    "print(list2)\n",
    "     \n",
    "list1=[('inal','nikunj','vekariya'),(),(),(1,2,3),()]\n",
    "list2=[]\n",
    "for i in list1:\n",
    "    if type(i)==tuple and len(tuple(i))==0:\n",
    "        t1=list(i)\n",
    "        list2.append(t1)\n",
    "        list2.remove(t1)\n",
    "    else:\n",
    "        list2.append(i)\n",
    "print(list2)\n",
    "    \n",
    "    "
   ]
  },
  {
   "cell_type": "code",
   "execution_count": 31,
   "id": "7aa93d3d",
   "metadata": {},
   "outputs": [],
   "source": [
    "#29. Write a Python program to unzip a list of tuples into individual lists. \n"
   ]
  },
  {
   "cell_type": "code",
   "execution_count": 8,
   "id": "78ed1c37",
   "metadata": {},
   "outputs": [
    {
     "name": "stdout",
     "output_type": "stream",
     "text": [
      "{'akash': 10, 'gaurav': 12, 'anand': 14, 'suraj': 20, 'akhil': 25, 'ashish': 30}\n",
      "{'akash': 10, 'gaurav': 12, 'anand': 14, 'suraj': 20, 'akhil': 25, 'ashish': 30}\n",
      "{'akash': 10, 'gaurav': 12, 'anand': 14, 'suraj': 20, 'akhil': 25, 'ashish': 30}\n"
     ]
    }
   ],
   "source": [
    "#30 Write a Python program to convert a list of tuples into a dictionary. \n",
    "tups=[(\"akash\", 10), (\"gaurav\", 12), (\"anand\", 14), \n",
    "         (\"suraj\", 20), (\"akhil\", 25), (\"ashish\", 30)]\n",
    "dictionary = {}\n",
    "for key,value in tups:\n",
    "    dictionary.setdefault(key,value)\n",
    "print(dictionary)\n",
    "\n",
    "\n",
    "tups=[(\"akash\", 10), (\"gaurav\", 12), (\"anand\", 14), \n",
    "         (\"suraj\", 20), (\"akhil\", 25), (\"ashish\", 30)]\n",
    "\n",
    "result=dict((x,y) for x,y in tups)\n",
    "print(result)\n",
    "\n",
    "tups=[(\"akash\", 10), (\"gaurav\", 12), (\"anand\", 14), \n",
    "         (\"suraj\", 20), (\"akhil\", 25), (\"ashish\", 30)]\n",
    "dic1=dict(tups)\n",
    "print(dic1)\n",
    "\n"
   ]
  },
  {
   "cell_type": "code",
   "execution_count": 21,
   "id": "bdf8c9a9",
   "metadata": {},
   "outputs": [
    {
     "name": "stdout",
     "output_type": "stream",
     "text": [
      "{5: 'TutorialsPoint', 6: 'Python', 7: 'Codes'}\n",
      "{5: 'TutorialsPoint', 6: 'Python', 7: 'Codes'}\n",
      "{5: 'TutorialsPoint', 6: 'Python', 7: 'Codes'}\n",
      "{5: 'TutorialsPoint', 6: 'Python', 7: 'Codes'}\n"
     ]
    }
   ],
   "source": [
    "#31 How will you create a dictionary using tuples in python? \n",
    "\n",
    "## method:1 The following program converts a tuple into a dictionary using the dict() function −\n",
    "\n",
    "inputTuple = ((5, \"TutorialsPoint\"), (6, \"Python\"), (7, \"Codes\"))\n",
    "result=dict((x,y) for x,y in inputTuple)\n",
    "print(result)\n",
    "\n",
    "\n",
    "# method:2 using    setdefault method\n",
    "l1 = ((5, \"TutorialsPoint\"), (6, \"Python\"), (7, \"Codes\"))\n",
    "dictionary={}\n",
    "for key,velue in l1:\n",
    "    dictionary.setdefault(key,velue)\n",
    "print(dictionary)\n",
    "\n",
    "\n",
    "#Method 3: Using zip() and dict() functions\n",
    "d1= (5, 6, 7)\n",
    "d2=('TutorialsPoint', 'Python', 'Codes')\n",
    "\n",
    "result=dict(zip(d1,d2))\n",
    "print(result)\n",
    "\n",
    "l1 = ((5, \"TutorialsPoint\"), (6, \"Python\"),(7, \"Codes\"))\n",
    "dic1=dict(l1)\n",
    "print(dic1)"
   ]
  },
  {
   "cell_type": "code",
   "execution_count": 61,
   "id": "a3dffc68",
   "metadata": {},
   "outputs": [
    {
     "name": "stdout",
     "output_type": "stream",
     "text": [
      "sort by key:- [('eco', 40), ('english', 70), ('guj', 80), ('math', 90), ('science', 50)]\n",
      "sort by velue:- [('eco', 40), ('science', 50), ('english', 70), ('guj', 80), ('math', 90)]\n",
      "ascending dictionnary= [(40, 'eco'), (50, 'science'), (70, 'english'), (80, 'guj'), (90, 'math')]\n",
      "math 90\n",
      "guj 80\n",
      "english 70\n",
      "science 50\n",
      "eco 40\n"
     ]
    }
   ],
   "source": [
    "#32. Write a Python script to sort (ascending and descending) a dictionary by value\n",
    "\n",
    "#sort by key\n",
    "\n",
    "d1={\"math\":90,\"english\":70,\"science\":50,\"eco\":40,\"guj\":80}\n",
    "list1=sorted(d1.items(),key=lambda x:x[0])\n",
    "print(\"sort by key:-\",list1)\n",
    "\n",
    "#sort by value\n",
    "\n",
    "d1={\"math\":90,\"english\":70,\"science\":50,\"eco\":40,\"guj\":80}\n",
    "list1=sorted(d1.items(),key=lambda x:x[1])\n",
    "print(\"sort by velue:-\",list1)\n",
    "\n",
    "\n",
    "d1={\"math\":90,\"english\":70,\"science\":50,\"eco\":40,\"guj\":80}\n",
    "d2=sorted([(key,value) for value,key in d1.items()])\n",
    "print(\"ascending dictionnary=\",d2)\n",
    "\n",
    "d1={\"math\":90,\"english\":70,\"science\":50,\"eco\":40,\"guj\":80}\n",
    "for i in sorted(d1,key=d1.get,reverse=True):\n",
    "    print(i,d1[i])"
   ]
  },
  {
   "cell_type": "code",
   "execution_count": 7,
   "id": "21dabff1",
   "metadata": {},
   "outputs": [
    {
     "name": "stdout",
     "output_type": "stream",
     "text": [
      "{1: 10, 2: 20, 3: 30, 4: 40}\n"
     ]
    }
   ],
   "source": [
    "#33 Write a Python script to concatenate following dictionaries to create a new one. \n",
    "dic1={1:10, 2:20}\n",
    "dic2={3:30, 4:40}\n",
    "dic3={}\n",
    "dic1.update(dic2)\n",
    "dic3.update(dic1)\n",
    "print(dic3)"
   ]
  },
  {
   "cell_type": "code",
   "execution_count": 69,
   "id": "ef04fcfd",
   "metadata": {},
   "outputs": [
    {
     "name": "stdout",
     "output_type": "stream",
     "text": [
      "Enter key to check:5\n",
      "yes is given key already exists in a dictionary\n",
      "50\n",
      "True\n"
     ]
    }
   ],
   "source": [
    "#34, Write a Python script to check if a given key already exists in a dictionary\n",
    "d = {1: 10, 2: 20, 3: 30, 4: 40, 5: 50, 6: 60}\n",
    "key=int(input(\"Enter key to check:\"))\n",
    "if key in d.keys():\n",
    "    print(\"yes is given key already exists in a dictionary\")\n",
    "    print(d[key])\n",
    "\n",
    "else:\n",
    "    print(\"no is given key exists in a dictionary\")\n",
    "    \n",
    "    \n",
    "    \n",
    "d = {1: 10, 2: 20, 3: 30, 4: 40, 5: 50, 6: 60}\n",
    "if 1 in d:\n",
    "    print(True)\n",
    "else:\n",
    "    print(False)\n"
   ]
  },
  {
   "cell_type": "code",
   "execution_count": 34,
   "id": "e0938992",
   "metadata": {
    "scrolled": true
   },
   "outputs": [
    {
     "name": "stdout",
     "output_type": "stream",
     "text": [
      "jinal 95\n",
      "nikunj 80\n",
      "manali 70\n",
      "rinkal 60\n",
      "jinal\n",
      "nikunj\n",
      "manali\n",
      "rinkal\n",
      "95\n",
      "80\n",
      "70\n",
      "60\n",
      "jinal 95\n",
      "nikunj 95\n",
      "manali 95\n",
      "rinkal 95\n",
      "jinal 95\n",
      "manali 70\n",
      "nikunj 80\n",
      "rinkal 60\n"
     ]
    }
   ],
   "source": [
    "#35  How Do You Traverse Through A Dictionary Object In Python?\n",
    "#Using dict. items() Method. ...\n",
    "d1={\"jinal\":95,\"nikunj\":80,\"manali\":70,\"rinkal\":60}\n",
    "for key,value in d1.items():\n",
    "    print(key,value)\n",
    "    \n",
    "    \n",
    "#Using Keys() Method. ...\n",
    "\n",
    "d1={\"jinal\":95,\"nikunj\":80,\"manali\":70,\"rinkal\":60}\n",
    "for key in d1.keys():\n",
    "    print(key)\n",
    "    \n",
    "#Using Values() MethoUsing Values() Method. ...\n",
    " \n",
    "d1={\"jinal\":95,\"nikunj\":80,\"manali\":70,\"rinkal\":60}\n",
    "for value in d1.values():\n",
    "    print(value)\n",
    "    \n",
    "#Iterating with Index. ...\n",
    "d1={\"jinal\":95,\"nikunj\":80,\"manali\":70,\"rinkal\":60}\n",
    "for i in d1:\n",
    "    print(i,d1[index])\n",
    "    \n",
    "    \n",
    "#Iterating Over Dictionary In Alphabetical Order. ...\n",
    "d1={\"jinal\":95,\"nikunj\":80,\"manali\":70,\"rinkal\":60}\n",
    "for keys in sorted(d1.keys()):\n",
    "    print(keys, d1[keys])\n",
    "    \n",
    "#Sort Using Dictionary Item Values.\n"
   ]
  },
  {
   "cell_type": "code",
   "execution_count": null,
   "id": "fbd67fca",
   "metadata": {},
   "outputs": [],
   "source": [
    "#36 How Do You Check The Presence Of A Key In A Dictionary? \n",
    "You can check if a key exists in the dictionary in Python using the keys() method of the dictionary class. \n",
    "The keys() method returns a view object of keys (something similar to a collection) in which you can search for the required key using the in operator we saw earlier.\n"
   ]
  },
  {
   "cell_type": "code",
   "execution_count": 42,
   "id": "9bc70d55",
   "metadata": {},
   "outputs": [
    {
     "name": "stdout",
     "output_type": "stream",
     "text": [
      "{1: 1, 2: 2, 3: 3, 4: 4, 5: 5, 6: 6, 7: 7, 8: 8, 9: 9, 10: 10, 11: 11, 12: 12, 13: 13, 14: 14, 15: 15}\n"
     ]
    }
   ],
   "source": [
    "#37  Write a Python script to print a dictionary where the keys are numbers between 1 and 15. \n",
    "d1={}\n",
    "for i in range(1,16):\n",
    "    d1[i]=i\n",
    "print(d1)"
   ]
  },
  {
   "cell_type": "code",
   "execution_count": 13,
   "id": "8e3a4b07",
   "metadata": {},
   "outputs": [
    {
     "name": "stdout",
     "output_type": "stream",
     "text": [
      "keys 1 are exists in dictionary\n",
      "keys 2 are exists in dictionary\n",
      "keys 6 are not exists in dictionary\n"
     ]
    }
   ],
   "source": [
    "#38 Write a Python program to check multiple keys exists in a dictionary \n",
    "d1={1: 'jinal', 2: 'ram', 3: 'nikunj', 4: 'manali', 5: 'ak'}\n",
    "cheak=[1,2,6]\n",
    "for key in cheak:\n",
    "    if key in d1:\n",
    "        print(f\"keys {key} are exists in dictionary\")\n",
    "#         continue\n",
    "    else:        \n",
    "        print(f\"keys {key} are not exists in dictionary\")"
   ]
  },
  {
   "cell_type": "code",
   "execution_count": 71,
   "id": "b68904a3",
   "metadata": {},
   "outputs": [
    {
     "name": "stdout",
     "output_type": "stream",
     "text": [
      "marge dictionary {1: 10, 2: 20, 3: 30, 4: 40, 5: 50, 6: 60}\n"
     ]
    }
   ],
   "source": [
    "#39 Write a Python script to merge two Python dictionaries \n",
    "d1 = {1: 10, 2: 20, 3: 30}\n",
    "d2={4: 40, 5: 50, 6: 60}\n",
    "d1.update(d2)\n",
    "print(\"marge dictionary\", d1)"
   ]
  },
  {
   "cell_type": "code",
   "execution_count": 7,
   "id": "f7cd5602",
   "metadata": {},
   "outputs": [
    {
     "name": "stdout",
     "output_type": "stream",
     "text": [
      "{1: 'jinal', 2: 'ram', 3: 'nikunj', 4: 'manali', 5: 'ak'}\n",
      "{1: 'jinal', 2: 'ram', 3: 'nikunj', 4: 'manali', 5: 'ak'}\n"
     ]
    }
   ],
   "source": [
    "#40 Write a Python program to map two lists into a dictionary \n",
    "d1={1,2,3,4,5}\n",
    "d2={\"jinal\",\"nikunj\",\"manali\",\"ak\",\"ram\"}\n",
    "d3=dict(zip(d1,d2))\n",
    "print(d3)\n",
    "\n",
    "def zip1(d1,d2):\n",
    "    d3=dict(zip(d1,d2))\n",
    "    print(d3)\n",
    "d1={1,2,3,4,5}\n",
    "d2={\"jinal\",\"nikunj\",\"manali\",\"ak\",\"ram\"}\n",
    "zip1(d1,d2)\n"
   ]
  },
  {
   "cell_type": "code",
   "execution_count": 8,
   "id": "0f2cf54c",
   "metadata": {},
   "outputs": [
    {
     "name": "stdout",
     "output_type": "stream",
     "text": [
      "{'Geeks': 100, 'geek': 200, 'for': 325}\n"
     ]
    }
   ],
   "source": [
    "#41 Write a Python program to combine two dictionary adding values for common keys. \n",
    "#d1 = {'a': 100, 'b': 200, 'c':300} o d2 = {'a': 300, 'b': 200,’d’:400} \n",
    "#Sample output: Counter ({'a': 400, 'b': 400,’d’: 400, 'c': 300}). \n",
    "dict1 = {'a': 12, 'for': 25, 'c': 9}\n",
    "dict2 = {'Geeks': 100, 'geek': 200, 'for': 300}\n",
    "for i in dict2:\n",
    "    if i in dict1:\n",
    "        dict2[i]=dict2[i]+dict1[i]\n",
    "    #else:\n",
    "        #pass\n",
    "print(dict2)"
   ]
  },
  {
   "cell_type": "code",
   "execution_count": 9,
   "id": "762fb2f8",
   "metadata": {},
   "outputs": [
    {
     "name": "stdout",
     "output_type": "stream",
     "text": [
      "{1, 2}\n"
     ]
    }
   ],
   "source": [
    "#42 Write a Python program to print all unique values in a dictionary. \n",
    "d1={\"jinal\":1,\"nikunj\":2,\"manali\":1,\"tops\":2}\n",
    "values=set(d1.values())\n",
    "print(values)\n"
   ]
  },
  {
   "cell_type": "code",
   "execution_count": null,
   "id": "61d0ef8f",
   "metadata": {},
   "outputs": [],
   "source": [
    "#43  Why Do You Use the Zip () Method in Python?\n",
    "\n",
    "The zip() function returns a zip object, which is an iterator of tuples where the first item in each passed iterator is paired together, and then the second item in each passed iterator are paired together etc.\n",
    "\n",
    "If the passed iterators have different lengths, the iterator with the least items decides the length of the new iterator.\n",
    "\n",
    "Syntax\n",
    "zip(iterator1, iterator2, iterator3 ...)\n"
   ]
  },
  {
   "cell_type": "code",
   "execution_count": null,
   "id": "43b4ab30",
   "metadata": {},
   "outputs": [],
   "source": [
    "#44 Write a Python program to create and display all combinations of letters, \n",
    "#selecting each letter from a different key in a dictionary. \n",
    "#Sample data: {'1': ['a','b'], '2': ['c','d']} \n",
    "#Expected Output: \n",
    "#ac ad bc bd \n"
   ]
  },
  {
   "cell_type": "code",
   "execution_count": 56,
   "id": "472a3e93",
   "metadata": {},
   "outputs": [
    {
     "name": "stdout",
     "output_type": "stream",
     "text": [
      "['K', 'B', 'A']\n"
     ]
    }
   ],
   "source": [
    "#45  Write a Python program to find the highest 3 values in a dictionary \n",
    "my_dict = {\"A\":3,\"B\":4,\"H\":1,\"K\":8,\"T\":0}\n",
    "\n",
    "my_keys = sorted(my_dict, key=my_dict.get, reverse=True)[:3]\n",
    "print(my_keys)"
   ]
  },
  {
   "cell_type": "code",
   "execution_count": null,
   "id": "efe71bef",
   "metadata": {},
   "outputs": [],
   "source": [
    "#46  Write a Python program to combine values in python list of dictionaries. \n",
    "#Sample data: [{'item': 'item1', 'amount': 400}, {'item': 'item2', 'amount': 300}, o {'item': 'item1', 'amount': 750}] \n",
    "#Expected Output:\n",
    "#Counter ({'item1': 1150, 'item2': 300}) \n"
   ]
  },
  {
   "cell_type": "code",
   "execution_count": 3,
   "id": "26da8576",
   "metadata": {},
   "outputs": [
    {
     "name": "stdout",
     "output_type": "stream",
     "text": [
      "{'w': 1, '3': 1, 'r': 2, 'e': 2, 's': 1, 'o': 1, 'u': 1, 'c': 1}\n"
     ]
    }
   ],
   "source": [
    " #47  Write a Python program to create a dictionary from a string. \n",
    "#Note: Track the count of the letters from the string. \n",
    "#Sample string: 'w3resource' \n",
    "#Expected output: \n",
    "#{'3': 1,’s’: 1, 'r': 2, 'u': 1, 'w': 1, 'c': 1, 'e': 2, 'o': 1} \n",
    "d=\"w3resource\"\n",
    "d1={}\n",
    "for i in d:\n",
    "    d1[i] = d1.get(i, 0) + 1\n",
    "print(d1)\n",
    "\n",
    "\n",
    "   \n",
    "  "
   ]
  },
  {
   "cell_type": "code",
   "execution_count": 26,
   "id": "32cac34e",
   "metadata": {},
   "outputs": [
    {
     "name": "stdout",
     "output_type": "stream",
     "text": [
      "120\n"
     ]
    }
   ],
   "source": [
    "#48 Write a Python function to calculate the factorial of a number (a nonnegative integer) \n",
    "\n",
    "def factorial(n):\n",
    "    fact=1\n",
    "    if n<0:\n",
    "        return(\" Factorial does not exist for negative numbers\")    \n",
    "    elif n==0:\n",
    "        return(\"The factorial of 0 is 1\")    \n",
    "    else:\n",
    "        for i in range(1,n+1):\n",
    "            fact=fact*i\n",
    "        return(fact)\n",
    "print(factorial(5))\n",
    "  \n",
    "#def factorial(n):\n",
    "    #if n == 0:\n",
    "        #return 1\n",
    "    #else:\n",
    "        #return n * factorial(n-1)\n",
    "#n=int(input(\"Input a number to compute the factiorial : \"))\n",
    "#print(factorial(n))\n"
   ]
  },
  {
   "cell_type": "code",
   "execution_count": 14,
   "id": "916f79a7",
   "metadata": {},
   "outputs": [
    {
     "name": "stdout",
     "output_type": "stream",
     "text": [
      "4 is in the range\n"
     ]
    }
   ],
   "source": [
    "#49  Write a Python function to check whether a number is in a given range\n",
    "def rangen(n):\n",
    "    if n in range(1,10):\n",
    "        return(\"%s is in the range\"%str(n))\n",
    "    else:\n",
    "        return(\"The number is outside the given range.\")\n",
    "\n",
    "print(rangen(4))      \n"
   ]
  },
  {
   "cell_type": "code",
   "execution_count": 41,
   "id": "2863dea3",
   "metadata": {},
   "outputs": [
    {
     "name": "stdout",
     "output_type": "stream",
     "text": [
      "True\n"
     ]
    }
   ],
   "source": [
    "#49 Write a Python function to check whether a number is perfect or not. \n",
    "def perfect_number(n):\n",
    "    sum=0\n",
    "    for i in range(1,n):\n",
    "        if n % i==0:\n",
    "            sum += i\n",
    "    return sum == n\n",
    "print(perfect_number(28))\n"
   ]
  },
  {
   "cell_type": "code",
   "execution_count": 86,
   "id": "3748a977",
   "metadata": {},
   "outputs": [
    {
     "name": "stdout",
     "output_type": "stream",
     "text": [
      "False\n"
     ]
    }
   ],
   "source": [
    "#50 Write a Python function that checks whether a passed string is palindrome or not \n",
    "def palindrome(a):\n",
    "    return a==a[::-1]\n",
    "#     if(a==a):\n",
    "#         print(\"yes palindrome string\")\n",
    "#     else:\n",
    "#         print(\"no palindrome string\")\n",
    "# a=\"madam\"\n",
    "print(palindrome(\"madaem\"))"
   ]
  },
  {
   "cell_type": "code",
   "execution_count": null,
   "id": "7d28117c",
   "metadata": {},
   "outputs": [],
   "source": [
    "#51 How Many Basic Types Of Functions Are Available In Python? \n",
    "Types of Functions\n",
    "Python support two types of functions\n",
    "\n",
    "Built-in function\n",
    "User-defined function\n",
    "Built-in function\n",
    "\n",
    "The functions which are come along with Python itself are called a built-in function or predefined function. Some of them are listed below.\n",
    "range(), id(), type(), input(), eval() etc.\n",
    "Exmple:-\n",
    "for i in range(1, 10):\n",
    "    print(i, end=' ')\n",
    "\n",
    "    User-defined function\n",
    "\n",
    "Functions which are created by programmer explicitly according to the requirement are called a user-defined function.\n",
    "\n"
   ]
  },
  {
   "cell_type": "code",
   "execution_count": 92,
   "id": "8fab94be",
   "metadata": {},
   "outputs": [
    {
     "name": "stdout",
     "output_type": "stream",
     "text": [
      "4\n"
     ]
    }
   ],
   "source": [
    "#52 How can you pick a random item from a list or tuple? \n",
    "import random\n",
    "tupl1=(1,2,3,4,5,6,7)\n",
    "randomItem = random.choice(tupl1)\n",
    "print(randomItem)"
   ]
  },
  {
   "cell_type": "code",
   "execution_count": 105,
   "id": "d1c9d7b9",
   "metadata": {},
   "outputs": [
    {
     "name": "stdout",
     "output_type": "stream",
     "text": [
      "15\n"
     ]
    }
   ],
   "source": [
    "#53  How can you pick a random item from a range? \n",
    "import random\n",
    "x=random.randrange(1,20,2)\n",
    "print(x)"
   ]
  },
  {
   "cell_type": "code",
   "execution_count": 110,
   "id": "1e7bfa79",
   "metadata": {},
   "outputs": [
    {
     "name": "stdout",
     "output_type": "stream",
     "text": [
      "10\n"
     ]
    }
   ],
   "source": [
    "#54  How can you get a random number in python? \n",
    "import random\n",
    "x=random.randint(1,22)\n",
    "print(x)"
   ]
  },
  {
   "cell_type": "code",
   "execution_count": 8,
   "id": "7df076bd",
   "metadata": {},
   "outputs": [
    {
     "name": "stdout",
     "output_type": "stream",
     "text": [
      "0.5714025946899135\n"
     ]
    }
   ],
   "source": [
    "#55 How will you set the starting value in generating random numbers? \n",
    "import random\n",
    "random.seed(10)\n",
    "print(random.random())\n"
   ]
  },
  {
   "cell_type": "code",
   "execution_count": 7,
   "id": "8010ba26",
   "metadata": {},
   "outputs": [
    {
     "name": "stdout",
     "output_type": "stream",
     "text": [
      "[5, 4, 6, 8, 7]\n"
     ]
    }
   ],
   "source": [
    "#56 How will you randomizes the items of a list in place? \n",
    "import random\n",
    "list1=[8,7,6,5,4]\n",
    "random.shuffle(list1)\n",
    "print(list1)"
   ]
  },
  {
   "cell_type": "code",
   "execution_count": 22,
   "id": "07c8c086",
   "metadata": {},
   "outputs": [
    {
     "name": "stdout",
     "output_type": "stream",
     "text": [
      "name\t\t:\tjinal\n",
      "\n"
     ]
    }
   ],
   "source": [
    "#57 Write a Python program to read a random line from a file. \n",
    "import random\n",
    "f=open(\"dmo3.txt\",\"r\")\n",
    "list=[]\n",
    "for i in f:\n",
    "    #print(i)\n",
    "    list1.append(i)\n",
    "f.close()\n",
    "print(random.choice(list1))"
   ]
  },
  {
   "cell_type": "code",
   "execution_count": 114,
   "id": "e268de1b",
   "metadata": {},
   "outputs": [
    {
     "name": "stdout",
     "output_type": "stream",
     "text": [
      "Input degrees: 90\n",
      "1.5714285714285714\n"
     ]
    }
   ],
   "source": [
    "#58 Write a Python program to convert degree to radian \n",
    "pi=22/7\n",
    "degree = float(input(\"Input degrees: \"))\n",
    "radian = degree*(pi/180)\n",
    "print(radian)\n"
   ]
  },
  {
   "cell_type": "code",
   "execution_count": 113,
   "id": "29ac2a14",
   "metadata": {},
   "outputs": [
    {
     "name": "stdout",
     "output_type": "stream",
     "text": [
      "Height of trapezoid: 5\n",
      "Base one value: 6\n",
      "Base two value: 10\n",
      "Area is: 40.0\n"
     ]
    }
   ],
   "source": [
    "#59 Write a Python program to calculate the area of a trapezoid \n",
    "base_1 = 5\n",
    "base_2 = 6\n",
    "height = float(input(\"Height of trapezoid: \"))\n",
    "base_1 = float(input('Base one value: '))\n",
    "base_2 = float(input('Base two value: '))\n",
    "area = ((base_1 + base_2) / 2) * height\n",
    "print(\"Area is:\", area)\n"
   ]
  },
  {
   "cell_type": "code",
   "execution_count": 112,
   "id": "f2e89f07",
   "metadata": {},
   "outputs": [
    {
     "name": "stdout",
     "output_type": "stream",
     "text": [
      "Length of base: 5\n",
      "Measurement of height: 6\n",
      "Area is:  30.0\n"
     ]
    }
   ],
   "source": [
    "#60 Write a Python program to calculate the area of a parallelogram \n",
    "base = float(input('Length of base: '))\n",
    "height = float(input('Measurement of height: '))\n",
    "area = base * height\n",
    "print(\"Area is: \", area)\n"
   ]
  },
  {
   "cell_type": "code",
   "execution_count": 23,
   "id": "34681844",
   "metadata": {},
   "outputs": [
    {
     "name": "stdout",
     "output_type": "stream",
     "text": [
      "Height of cylinder: 4\n",
      "Radius of cylinder: 6\n",
      "Volume is:  452.57142857142856\n",
      "Surface Area is:  377.1428571428571\n"
     ]
    }
   ],
   "source": [
    "#61 Write a Python program to calculate surface volume and area of a cylinder\n",
    "pi=22/7\n",
    "height = float(input('Height of cylinder: '))\n",
    "radian = float(input('Radius of cylinder: '))\n",
    "volume = pi * radian * radian * height\n",
    "sur_area = ((2*pi*radian) * height) + ((pi*radian**2)*2)\n",
    "print(\"Volume is: \", volume)\n",
    "print(\"Surface Area is: \", sur_area)\n"
   ]
  },
  {
   "cell_type": "code",
   "execution_count": 1,
   "id": "95fbacdf",
   "metadata": {},
   "outputs": [
    {
     "name": "stdout",
     "output_type": "stream",
     "text": [
      "7\n",
      "16\n"
     ]
    }
   ],
   "source": [
    "#62 Write a Python program to returns sum of all divisors of a number \n",
    "def sum_div(number):\n",
    "    divisors = [1]\n",
    "    for i in range(2, number):\n",
    "        if (number % i)==0:\n",
    "            divisors.append(i)\n",
    "    return sum(divisors)\n",
    "print(sum_div(8))\n",
    "print(sum_div(12))\n"
   ]
  },
  {
   "cell_type": "code",
   "execution_count": 4,
   "id": "692d33f2",
   "metadata": {},
   "outputs": [
    {
     "name": "stdout",
     "output_type": "stream",
     "text": [
      "maximum number 89.67\n",
      "minimum number 0.34\n"
     ]
    }
   ],
   "source": [
    "#63Write a Python program to find the maximum and minimum numbers from the specified decimal numbers. \n",
    "\n",
    "l1=23.45,67.23,1.45,89.67,0.34\n",
    "print(\"maximum number\",max(l1))\n",
    "print(\"minimum number\",min(l1))"
   ]
  }
 ],
 "metadata": {
  "kernelspec": {
   "display_name": "Python 3 (ipykernel)",
   "language": "python",
   "name": "python3"
  },
  "language_info": {
   "codemirror_mode": {
    "name": "ipython",
    "version": 3
   },
   "file_extension": ".py",
   "mimetype": "text/x-python",
   "name": "python",
   "nbconvert_exporter": "python",
   "pygments_lexer": "ipython3",
   "version": "3.9.13"
  }
 },
 "nbformat": 4,
 "nbformat_minor": 5
}
