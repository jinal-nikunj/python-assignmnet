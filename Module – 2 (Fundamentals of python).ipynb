{
 "cells": [
  {
   "cell_type": "code",
   "execution_count": 3,
   "id": "e9f50129",
   "metadata": {},
   "outputs": [
    {
     "name": "stdout",
     "output_type": "stream",
     "text": [
      "enter your number: 4\n",
      "Number is positive\n"
     ]
    }
   ],
   "source": [
    "#.1 Write a Python program to check if a number is positive, negative or zero\n",
    "num=int(input(\"enter your number: \"))\n",
    "if num>0:\n",
    "    print(\"Number is positive\")\n",
    "elif num==0:\n",
    "    print(\"Number is zero\")\n",
    "else:\n",
    "    print(\"Number is negative\")"
   ]
  },
  {
   "cell_type": "code",
   "execution_count": 2,
   "id": "d30b05fc",
   "metadata": {},
   "outputs": [
    {
     "name": "stdout",
     "output_type": "stream",
     "text": [
      "enter your number: 4\n",
      "4 factorial number is 24\n"
     ]
    }
   ],
   "source": [
    "#.2 Write a Python program to get the Factorial number of given number.\n",
    "num=int(input(\"enter your number: \"))\n",
    "fact=1\n",
    "for i in range(1,num+1):\n",
    "    fact=fact*i\n",
    "print(f\"{num} factorial number is {fact}\")"
   ]
  },
  {
   "cell_type": "code",
   "execution_count": 1,
   "id": "304e6ec1",
   "metadata": {},
   "outputs": [
    {
     "name": "stdout",
     "output_type": "stream",
     "text": [
      "enter your number: 4\n",
      "0 1 1 2 3 "
     ]
    }
   ],
   "source": [
    "#.3  Write a Python program to get the Fibonacci series of given range.\n",
    "num=int(input(\"enter your number: \"))\n",
    "a=0\n",
    "b=1\n",
    "c=0\n",
    "for i in range(0,num+1):\n",
    "    print(c,end=\" \")\n",
    "    a=b\n",
    "    b=c\n",
    "    c=a+b\n",
    "\n"
   ]
  },
  {
   "cell_type": "code",
   "execution_count": null,
   "id": "85fae7f8",
   "metadata": {},
   "outputs": [],
   "source": [
    "#4. How memory is managed in Python?\n",
    "ans...Memory management in Python involves a private heap containing all Python objects and data structures. \n",
    "The management of this private heap is ensured internally by the Python memory manager.\n"
   ]
  },
  {
   "cell_type": "code",
   "execution_count": null,
   "id": "138b2a8c",
   "metadata": {},
   "outputs": [],
   "source": [
    "#5. What is the purpose continue statement in python?\n",
    " ans....The continue keyword is used to end the current iteration in a for loop (or a while loop), \n",
    "    and continues to the next iteration.\n",
    "\n"
   ]
  },
  {
   "cell_type": "code",
   "execution_count": 4,
   "id": "305542ce",
   "metadata": {},
   "outputs": [
    {
     "name": "stdout",
     "output_type": "stream",
     "text": [
      "*****************With tem***********************\n",
      "enter your number3\n",
      "enter your number4\n",
      "with temp value a= {4}\n",
      "with temp value b= {3}\n",
      "*******************without temp*****************\n",
      "enter your number4\n",
      "enter your number3\n",
      "without using temp a= {3}\n",
      "without using temp b= {4}\n"
     ]
    }
   ],
   "source": [
    "#6. Write python program that swap two number with temp variable and without temp variable.\n",
    "print(\"*****************With tem***********************\") \n",
    "\n",
    "a=int(input(\"enter your number\"))\n",
    "b=int(input(\"enter your number\"))\n",
    "temp=a\n",
    "a=b\n",
    "b=temp\n",
    "print(\"with temp value a=\",{a})\n",
    "print(\"with temp value b=\",{b})\n",
    "\n",
    "\n",
    "print(\"*******************without temp*****************\")\n",
    "a=int(input(\"enter your number\"))\n",
    "b=int(input(\"enter your number\"))\n",
    "a=a+b\n",
    "b=a-b\n",
    "a=a-b\n",
    "print(\"without using temp a=\",{a})\n",
    "print(\"without using temp b=\",{b})\n",
    "\n",
    "\n",
    "\n",
    "\n",
    "\n"
   ]
  },
  {
   "cell_type": "code",
   "execution_count": 5,
   "id": "1989ea24",
   "metadata": {},
   "outputs": [
    {
     "name": "stdout",
     "output_type": "stream",
     "text": [
      "enter your number4\n",
      "4 is even number\n"
     ]
    }
   ],
   "source": [
    "#7. Write a Python program to find whether a given number is even or odd, print out an appropriate message to the user.\n",
    "num=int(input(\"enter your number\"))\n",
    "if num%2==0:\n",
    "    print(f\"{num} is even number\")\n",
    "else:\n",
    "    print(f\"{num} is odd number\")\n",
    "  "
   ]
  },
  {
   "cell_type": "code",
   "execution_count": 6,
   "id": "cd215419",
   "metadata": {},
   "outputs": [
    {
     "name": "stdout",
     "output_type": "stream",
     "text": [
      "enter your alphabets: e\n",
      "  e is a vowel\n"
     ]
    }
   ],
   "source": [
    "#8. Write a Python program to test whether a passed letter is a vowel or not\n",
    "i=(input(\"enter your alphabets: \"))\n",
    "if i in(\"a\",\"e\",\"i\",\"o\",\"u\"):\n",
    "   print(f\"  {i} is a vowel\")\n",
    "\n",
    "else:\n",
    "   print(f\" {i} is a consoant\")\n",
    "   \n",
    "   "
   ]
  },
  {
   "cell_type": "code",
   "execution_count": 9,
   "id": "7ed17c9d",
   "metadata": {},
   "outputs": [
    {
     "name": "stdout",
     "output_type": "stream",
     "text": [
      "enter your number:4\n",
      "enter your number:4\n",
      "enter your number:3\n",
      "Zero\n"
     ]
    }
   ],
   "source": [
    "### #9.Write a Python program to sum of three given integers. However, if two values are equal sum will be zero.\n",
    "x=int(input(\"enter your number:\"))\n",
    "y=int(input(\"enter your number:\"))  #use for three variables\n",
    "z=int(input(\"enter your number:\"))\n",
    "if x==y or y==z or x==z:\n",
    "    print(\"Zero\")\n",
    "else:                               #three variables of sum\n",
    "    sum=x+y+z\n",
    "    print(\"total sum\",sum)"
   ]
  },
  {
   "cell_type": "code",
   "execution_count": 10,
   "id": "f760fda2",
   "metadata": {},
   "outputs": [
    {
     "name": "stdout",
     "output_type": "stream",
     "text": [
      "enter your number:2\n",
      "enter your number:3\n",
      "True\n"
     ]
    }
   ],
   "source": [
    "# 10. Write a Python program that will return true if the two given integer values are equal or their sum or difference is 5.\n",
    "x=int(input(\"enter your number:\"))\n",
    "y=int(input(\"enter your number:\"))\n",
    "if x==y or abs(x-y)==5 or (x+y)==5:\n",
    "    print(\"True\")\n",
    "else:\n",
    "    print(\"False\")\n",
    " \n"
   ]
  },
  {
   "cell_type": "code",
   "execution_count": 12,
   "id": "3d46b402",
   "metadata": {},
   "outputs": [
    {
     "name": "stdout",
     "output_type": "stream",
     "text": [
      "enter your number: 4\n",
      "4 number of sum is  10\n"
     ]
    }
   ],
   "source": [
    "# 11. Write a python program to sum of the first n positive integers.\n",
    "num=int(input(\"enter your number: \"))\n",
    "sum=0\n",
    "for i in range(0,num+1):\n",
    "    sum=sum+i\n",
    "print(f\"{num} number of sum is \",sum)"
   ]
  },
  {
   "cell_type": "code",
   "execution_count": 13,
   "id": "73a1f549",
   "metadata": {},
   "outputs": [
    {
     "name": "stdout",
     "output_type": "stream",
     "text": [
      "enter your name: jinal vekariya\n",
      "The lenght of a string is= 14\n",
      "enter your name: jinal\n",
      "5\n"
     ]
    }
   ],
   "source": [
    "#12. Write a Python program to calculate the length of a string.\n",
    "#first method\n",
    "str=input(\"enter your name: \")\n",
    "a=len(str)\n",
    "print(\"The lenght of a string is=\",a)\n",
    "\n",
    "\n",
    "#second method\n",
    "str=input(\"enter your name: \")\n",
    "count=0\n",
    "for i in str:\n",
    "    count=count+1\n",
    "print(count)"
   ]
  },
  {
   "cell_type": "code",
   "execution_count": 1,
   "id": "71189ee1",
   "metadata": {},
   "outputs": [
    {
     "name": "stdout",
     "output_type": "stream",
     "text": [
      "enter your stringhello world\n",
      "{'h': 1, 'e': 1, 'l': 3, 'o': 2, ' ': 1, 'w': 1, 'r': 1, 'd': 1}\n",
      "enter any string :jinal\n",
      "enter your search charactori\n",
      "Number of time found 1\n"
     ]
    }
   ],
   "source": [
    "#13. Write a Python program to count the number of characters (character frequency) in a string\n",
    "str1=input(\"enter your string\")\n",
    "fre={}\n",
    "for i in str1:\n",
    "    if i in fre:\n",
    "        fre[i]+=1\n",
    "    else:\n",
    "        fre[i]=1\n",
    "print(fre)\n",
    "\n",
    "#second method        \n",
    "a=input(\"enter any string :\")\n",
    "b=input(\"enter your search charactor\")\n",
    "f=0\n",
    "for i in a:\n",
    "    if i==b:\n",
    "        f=f+1\n",
    "print(\"Number of time found\",f)"
   ]
  },
  {
   "cell_type": "code",
   "execution_count": 4,
   "id": "05d7086e",
   "metadata": {},
   "outputs": [
    {
     "name": "stdout",
     "output_type": "stream",
     "text": [
      "[12, 34.2]\n"
     ]
    }
   ],
   "source": [
    "#14. What are negative indexes and why are they used?\n",
    "The sequences in Python are indexed and it consists of the positive as well as negative numbers.\n",
    "The numbers that are positive uses ‘0’ that is uses as first index and ‘1’ as the second index and the process goes on like that.\n",
    "The index for the negative number starts from ‘-1’ that represents the last index in the sequence and ‘-2’ as the penultimate index and the sequence carries forward like the positive number.\n",
    "The negative index is used to remove any new-line spaces from the string and allow the string to except the last character that is given as S[:-1]. The negative index is also used to show the index to represent the string in correct order.\n",
    "example of negative index:\n",
    "str1=[1,4,7,8,12,23,34.2,12]\n",
    "print(str1[-1:-3:-1])\n"
   ]
  },
  {
   "cell_type": "code",
   "execution_count": 2,
   "id": "b83a2a4d",
   "metadata": {},
   "outputs": [
    {
     "name": "stdout",
     "output_type": "stream",
     "text": [
      "enter your name: jinal vekariya\n",
      "enter your name: i\n",
      "count occurrences of a substring 2\n"
     ]
    }
   ],
   "source": [
    "#15. Write a Python program to count occurrences of a substring in a string.\n",
    "str1=input(\"enter your name: \")\n",
    "search_str1=input(\"enter your name: \")\n",
    "print(\"count occurrences of a substring\",str1.count(search_str1))"
   ]
  },
  {
   "cell_type": "code",
   "execution_count": 14,
   "id": "6d1ef8bc",
   "metadata": {},
   "outputs": [
    {
     "name": "stdout",
     "output_type": "stream",
     "text": [
      "enter your namemy name is jinal, my husbund name is nikunj\n",
      "{'my': 2, 'name': 2, 'is': 2, 'jinal,': 1, 'husbund': 1, 'nikunj': 1}\n"
     ]
    }
   ],
   "source": [
    "#16.  Write a Python program to count the occurrences of each word in a given sentence\n",
    "\n",
    "str1=input(\"enter your name\")\n",
    "word=str1.split()\n",
    "search_str={}\n",
    "for i in word:\n",
    "    if i in search_str:\n",
    "        search_str[i]+=1\n",
    "    else:\n",
    "        search_str[i]=1\n",
    "print(search_str)\n"
   ]
  },
  {
   "cell_type": "code",
   "execution_count": 11,
   "id": "805d2829",
   "metadata": {},
   "outputs": [
    {
     "name": "stdout",
     "output_type": "stream",
     "text": [
      "enter your namejinal\n",
      "enter your namevekariya\n",
      "ijnal\n",
      "evkariya\n",
      "ijnal evkariya\n"
     ]
    }
   ],
   "source": [
    "#17. Write a Python program to get a single string from two given strings,separated by a space and swap the first two characters of each string.\n",
    "a=input(\"enter your name\")\n",
    "b=input(\"enter your name\")\n",
    "a1=a[1]+a[0]+a[2:]\n",
    "b1=b[1]+b[0]+b[2:]\n",
    "print(a1)\n",
    "print(b1)\n",
    "new_string=a1+\" \"+b1\n",
    "print(new_string)"
   ]
  },
  {
   "cell_type": "code",
   "execution_count": 14,
   "id": "25ae6659",
   "metadata": {},
   "outputs": [
    {
     "name": "stdout",
     "output_type": "stream",
     "text": [
      "enter your string: abc\n",
      "abcing\n"
     ]
    }
   ],
   "source": [
    "#18. Write a Python program to add 'ing' at the end of a given string (length should be at least 3). If the given string already ends with 'ing' then add ly' instead if the string length of the given string is less than 3, leave it unchanged\n",
    "\n",
    "a=input(\"enter your string: \")\n",
    "if len(a)>=3:\n",
    "    if a.endswith(\"ing\"):\n",
    "        a+=\"ly\"\n",
    "    \n",
    "    else:\n",
    "        a+=\"ing\"\n",
    "print(a)"
   ]
  },
  {
   "cell_type": "code",
   "execution_count": 1,
   "id": "f50326ec",
   "metadata": {},
   "outputs": [
    {
     "name": "stdout",
     "output_type": "stream",
     "text": [
      "enter string: he is not a poor person\n",
      "he is good person\n"
     ]
    }
   ],
   "source": [
    "#19. Write a Python program to find the first appearance of the substring 'not' and 'poor' from a given string, if 'not' follows the 'poor', replace the whole 'not'...'poor' substring with 'good'. Return the resulting string.\n",
    "str1=input(\"enter string: \")\n",
    "a=str1.find(\"not\")\n",
    "b=str1.find(\"poor\")\n",
    "if a<b:\n",
    "    str2=str1.replace(str1[a:b+4],\"good\")\n",
    "    print(str2)\n",
    "    \n"
   ]
  },
  {
   "cell_type": "code",
   "execution_count": 1,
   "id": "cb944c66",
   "metadata": {},
   "outputs": [
    {
     "name": "stdout",
     "output_type": "stream",
     "text": [
      "enetr your listpyhone is treading language\n",
      "8\n"
     ]
    }
   ],
   "source": [
    "#.20 Write a Python function that takes a list of words and returns the length of the longest one.\n",
    "str1=input(\"enetr your list:  \")\n",
    "n=str1.split()\n",
    "long=len(n[0])\n",
    "for i in n:\n",
    "    if len(i)>long:\n",
    "        long=len(i)\n",
    "print(long)\n"
   ]
  },
  {
   "cell_type": "code",
   "execution_count": 23,
   "id": "a1ff8461",
   "metadata": {},
   "outputs": [
    {
     "name": "stdout",
     "output_type": "stream",
     "text": [
      "enter your lenth: ji\n",
      "string is empty\n"
     ]
    }
   ],
   "source": [
    "#21. Write a Python program to get a string made of the first 2 and the last 2 chars from a given a string.\n",
    "# 7yIf the string length is less than 2, return instead of the empty string.\n",
    " \n",
    "str=input(\"enter your lenth: \")\n",
    "if len(str)<=2:\n",
    "    print(\"string is empty\")\n",
    "else:\n",
    "    str1=str[:2]+str[-2:]\n",
    "    print(str1)\n"
   ]
  },
  {
   "cell_type": "code",
   "execution_count": 24,
   "id": "4b2eaebf",
   "metadata": {},
   "outputs": [
    {
     "name": "stdout",
     "output_type": "stream",
     "text": [
      "enter string: jina\n",
      "anij\n"
     ]
    }
   ],
   "source": [
    "#22. Write a Python function to reverses a string if its length is a multiple of 4\n",
    "a=input(\"enter string: \")\n",
    "len1=len(a)\n",
    "if len1%4==0:\n",
    "    print(a[::-1])  #using reversed method\n",
    "else:\n",
    "    print(a)\n",
    " "
   ]
  },
  {
   "cell_type": "code",
   "execution_count": 2,
   "id": "8daad101",
   "metadata": {},
   "outputs": [
    {
     "name": "stdout",
     "output_type": "stream",
     "text": [
      "enter your string: jinal\n",
      "enetr your string: nikunj\n",
      "jinikunjnal\n"
     ]
    }
   ],
   "source": [
    "#23. Write a Python function to insert a string in the middle of a string.\n",
    "str1=input(\"enter your string: \")\n",
    "str2=input(\"enetr your string: \")\n",
    "string=str1[:2]+str2+str1[2:]\n",
    "print(string)"
   ]
  }
 ],
 "metadata": {
  "kernelspec": {
   "display_name": "Python 3 (ipykernel)",
   "language": "python",
   "name": "python3"
  },
  "language_info": {
   "codemirror_mode": {
    "name": "ipython",
    "version": 3
   },
   "file_extension": ".py",
   "mimetype": "text/x-python",
   "name": "python",
   "nbconvert_exporter": "python",
   "pygments_lexer": "ipython3",
   "version": "3.9.13"
  }
 },
 "nbformat": 4,
 "nbformat_minor": 5
}
